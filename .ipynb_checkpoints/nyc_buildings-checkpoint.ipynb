{
 "metadata": {
  "name": "",
  "signature": "sha256:76b203a6f54ae28edc716a761131872b152c745260926cef14fc0a86232cb7f6"
 },
 "nbformat": 3,
 "nbformat_minor": 0,
 "worksheets": [
  {
   "cells": [
    {
     "cell_type": "heading",
     "level": 1,
     "metadata": {},
     "source": [
      "Background"
     ]
    },
    {
     "cell_type": "markdown",
     "metadata": {},
     "source": [
      "This script combines building geometries and energy consumption information from publicly available New York City data, and export data to GeoJSON and TopoJSON formats for interactive visualization with d3."
     ]
    },
    {
     "cell_type": "markdown",
     "metadata": {},
     "source": [
      "Most of the heavy lifting is done by Pandas. GeoPandas is used to help manage the geometry data. You will need both of these installed in order to run this code. If you wish to perform the GeoJSON to TopoJSON included at the very end of this script then you will also need to have TopoJSON installed (notes are included for this below)."
     ]
    },
    {
     "cell_type": "code",
     "collapsed": false,
     "input": [
      "import os, re\n",
      "from pandas import *\n",
      "from geopandas import *\n",
      "pylab.rcParams['savefig.dpi'] = 100"
     ],
     "language": "python",
     "metadata": {},
     "outputs": [],
     "prompt_number": 47
    },
    {
     "cell_type": "heading",
     "level": 1,
     "metadata": {},
     "source": [
      "Data Collection and Tidying"
     ]
    },
    {
     "cell_type": "heading",
     "level": 2,
     "metadata": {},
     "source": [
      "Building Geometry"
     ]
    },
    {
     "cell_type": "heading",
     "level": 4,
     "metadata": {},
     "source": [
      "Data Source"
     ]
    },
    {
     "cell_type": "markdown",
     "metadata": {},
     "source": [
      "downloaded data from: https://data.cityofnewyork.us/download/tb92-6tj8/application/zip\n",
      "\n",
      "see for ref: https://data.cityofnewyork.us/Housing-Development/Building-Footprints/tb92-6tj8\n",
      "\n",
      "details: file:///Users/brian/Documents/home/aawork/blog/nyc_data/building_0814_shape_webmercator/building_0814_metadata.htm\n"
     ]
    },
    {
     "cell_type": "heading",
     "level": 4,
     "metadata": {},
     "source": [
      "Cleaning and Formatting"
     ]
    },
    {
     "cell_type": "markdown",
     "metadata": {},
     "source": [
      "Note that the building_1214_metadata.htm file that makes part of the downloaded zip describes a different map projection specification (in its 'well-known-text' field) than what is found in the building_1214.prj file. The metadata looks to be correct and the .prj file incorrect - the geometry data in the shape file is in feet rather than in longitude-latitude. So the 'well-known-text' field from the metadata file must be copied into the .prj file before reading the shape file with GeoPandas (else all variety of headaches arise when trying to translate and/or export to GeoJSON, as I discovered the hard way).\n",
      "\n",
      "The shape file is 216 MB, so be prepared to wait for the following command - it takes about 4 minutes on my mac air."
     ]
    },
    {
     "cell_type": "code",
     "collapsed": false,
     "input": [
      "shpfile = 'building_footprints_shape_webmercator_12-14/building_1214.shp'\n",
      "bldgs = GeoDataFrame.from_file(shpfile)"
     ],
     "language": "python",
     "metadata": {},
     "outputs": [],
     "prompt_number": 3
    },
    {
     "cell_type": "code",
     "collapsed": false,
     "input": [
      "print 'number of rows:\\t' + str(len(bldgs))\n",
      "print 'columns:\\t' + str(bldgs.columns)\n",
      "print 'crs:\\t\\t' + str(bldgs.crs) # projection info for the geometry data"
     ],
     "language": "python",
     "metadata": {},
     "outputs": [
      {
       "output_type": "stream",
       "stream": "stdout",
       "text": [
        "number of rows:\t1082381\n",
        "columns:\tIndex([u'BBL', u'BIN', u'BUILDING_T', u'DOITT_ID', u'FEATURE_CO', u'GROUND_ELE', u'HEIGHT_ROO', u'LAST_MODIF', u'NAME', u'OBJECTID', u'SUB_FEATUR', u'Shape_Area', u'Shape_Leng', u'geometry'], dtype='object')\n",
        "crs:\t\t{'init': u'epsg:2263'}\n"
       ]
      }
     ],
     "prompt_number": 4
    },
    {
     "cell_type": "markdown",
     "metadata": {},
     "source": [
      "There are 1,082,381 buildings in this dataset. Note that the geometry values are in feet, using the EPSG 2263 projection (as specified in the source metadata file).\n",
      "\n",
      "For clarity, we revise the table to only include the columns we are interested in. Note that 'BBL' stands for 'Burough - Block - Lot number'. This column is shared with the energy data described below, and will be used as a key for merging the tables, so we make it an index here. For convenience we add a new column 'boro' (keeping with traditional NY spelling) which contains the burough as a single-character string: '1'=Manhattan, '2'=Bronx, etc."
     ]
    },
    {
     "cell_type": "code",
     "collapsed": false,
     "input": [
      "def boronum(bbl):\n",
      "    return int(bbl[0])\n",
      "boro = bldgs['BBL'].apply(boronum)\n",
      "bldgs['boro'] = boro\n",
      "bldgs = bldgs[['BBL','boro','GROUND_ELE','HEIGHT_ROO','Shape_Area','Shape_Leng','geometry']]\n",
      "bldgs.set_index('BBL', inplace=True)\n",
      "bldgs.sort(inplace=True)\n",
      "bldgs.head()"
     ],
     "language": "python",
     "metadata": {},
     "outputs": [
      {
       "html": [
        "<div style=\"max-height:1000px;max-width:1500px;overflow:auto;\">\n",
        "<table border=\"1\" class=\"dataframe\">\n",
        "  <thead>\n",
        "    <tr style=\"text-align: right;\">\n",
        "      <th></th>\n",
        "      <th>boro</th>\n",
        "      <th>GROUND_ELE</th>\n",
        "      <th>HEIGHT_ROO</th>\n",
        "      <th>Shape_Area</th>\n",
        "      <th>Shape_Leng</th>\n",
        "      <th>geometry</th>\n",
        "    </tr>\n",
        "    <tr>\n",
        "      <th>BBL</th>\n",
        "      <th></th>\n",
        "      <th></th>\n",
        "      <th></th>\n",
        "      <th></th>\n",
        "      <th></th>\n",
        "      <th></th>\n",
        "    </tr>\n",
        "  </thead>\n",
        "  <tbody>\n",
        "    <tr>\n",
        "      <th>1000010010</th>\n",
        "      <td> 1</td>\n",
        "      <td>  9</td>\n",
        "      <td> 10.29</td>\n",
        "      <td>  277.908100</td>\n",
        "      <td>  68.170905</td>\n",
        "      <td> POLYGON ((-8239895.129312261 4966979.423426831...</td>\n",
        "    </tr>\n",
        "    <tr>\n",
        "      <th>1000010010</th>\n",
        "      <td> 1</td>\n",
        "      <td> 10</td>\n",
        "      <td> 21.52</td>\n",
        "      <td> 3198.675255</td>\n",
        "      <td> 365.577623</td>\n",
        "      <td> POLYGON ((-8240318.942692845 4966178.186055238...</td>\n",
        "    </tr>\n",
        "    <tr>\n",
        "      <th>1000010010</th>\n",
        "      <td> 1</td>\n",
        "      <td> 25</td>\n",
        "      <td> 29.67</td>\n",
        "      <td> 3863.966910</td>\n",
        "      <td> 256.501983</td>\n",
        "      <td> POLYGON ((-8239093.847102767 4966770.272564691...</td>\n",
        "    </tr>\n",
        "    <tr>\n",
        "      <th>1000010010</th>\n",
        "      <td> 1</td>\n",
        "      <td>  7</td>\n",
        "      <td> 26.66</td>\n",
        "      <td> 3138.298489</td>\n",
        "      <td> 240.395131</td>\n",
        "      <td> POLYGON ((-8239010.691476121 4966850.24966739,...</td>\n",
        "    </tr>\n",
        "    <tr>\n",
        "      <th>1000010010</th>\n",
        "      <td> 1</td>\n",
        "      <td> 11</td>\n",
        "      <td> 28.60</td>\n",
        "      <td> 3509.856484</td>\n",
        "      <td> 301.591446</td>\n",
        "      <td> POLYGON ((-8239472.205369915 4966449.2249446, ...</td>\n",
        "    </tr>\n",
        "  </tbody>\n",
        "</table>\n",
        "</div>"
       ],
       "metadata": {},
       "output_type": "pyout",
       "prompt_number": 5,
       "text": [
        "            boro  GROUND_ELE  HEIGHT_ROO   Shape_Area  Shape_Leng  \\\n",
        "BBL                                                                 \n",
        "1000010010     1           9       10.29   277.908100   68.170905   \n",
        "1000010010     1          10       21.52  3198.675255  365.577623   \n",
        "1000010010     1          25       29.67  3863.966910  256.501983   \n",
        "1000010010     1           7       26.66  3138.298489  240.395131   \n",
        "1000010010     1          11       28.60  3509.856484  301.591446   \n",
        "\n",
        "                                                     geometry  \n",
        "BBL                                                            \n",
        "1000010010  POLYGON ((-8239895.129312261 4966979.423426831...  \n",
        "1000010010  POLYGON ((-8240318.942692845 4966178.186055238...  \n",
        "1000010010  POLYGON ((-8239093.847102767 4966770.272564691...  \n",
        "1000010010  POLYGON ((-8239010.691476121 4966850.24966739,...  \n",
        "1000010010  POLYGON ((-8239472.205369915 4966449.2249446, ...  "
       ]
      }
     ],
     "prompt_number": 5
    },
    {
     "cell_type": "markdown",
     "metadata": {},
     "source": [
      "Although Cartesian geometry in feet is useful for many purposes, it is not great for browser-based mapping with standard js libraries which expect geometries in longitude-latitude. We thus add a new column with the geometry projected to EPSG 4326, which is the standard geo description used in browser-based mapping."
     ]
    },
    {
     "cell_type": "code",
     "collapsed": false,
     "input": [
      "bldgs['geometry_latlon'] = bldgs['geometry'].to_crs(epsg=4326)\n",
      "bldgs.head()"
     ],
     "language": "python",
     "metadata": {},
     "outputs": [
      {
       "html": [
        "<div style=\"max-height:1000px;max-width:1500px;overflow:auto;\">\n",
        "<table border=\"1\" class=\"dataframe\">\n",
        "  <thead>\n",
        "    <tr style=\"text-align: right;\">\n",
        "      <th></th>\n",
        "      <th>boro</th>\n",
        "      <th>GROUND_ELE</th>\n",
        "      <th>HEIGHT_ROO</th>\n",
        "      <th>Shape_Area</th>\n",
        "      <th>Shape_Leng</th>\n",
        "      <th>geometry</th>\n",
        "      <th>geometry_latlon</th>\n",
        "    </tr>\n",
        "    <tr>\n",
        "      <th>BBL</th>\n",
        "      <th></th>\n",
        "      <th></th>\n",
        "      <th></th>\n",
        "      <th></th>\n",
        "      <th></th>\n",
        "      <th></th>\n",
        "      <th></th>\n",
        "    </tr>\n",
        "  </thead>\n",
        "  <tbody>\n",
        "    <tr>\n",
        "      <th>1000010010</th>\n",
        "      <td> 1</td>\n",
        "      <td>  9</td>\n",
        "      <td> 10.29</td>\n",
        "      <td>  277.908100</td>\n",
        "      <td>  68.170905</td>\n",
        "      <td> POLYGON ((-8239895.129312261 4966979.423426831...</td>\n",
        "      <td> POLYGON ((-112.6757750753299 48.09341020820187...</td>\n",
        "    </tr>\n",
        "    <tr>\n",
        "      <th>1000010010</th>\n",
        "      <td> 1</td>\n",
        "      <td> 10</td>\n",
        "      <td> 21.52</td>\n",
        "      <td> 3198.675255</td>\n",
        "      <td> 365.577623</td>\n",
        "      <td> POLYGON ((-8240318.942692845 4966178.186055238...</td>\n",
        "      <td> POLYGON ((-112.6759406036311 48.09094854809784...</td>\n",
        "    </tr>\n",
        "    <tr>\n",
        "      <th>1000010010</th>\n",
        "      <td> 1</td>\n",
        "      <td> 25</td>\n",
        "      <td> 29.67</td>\n",
        "      <td> 3863.966910</td>\n",
        "      <td> 256.501983</td>\n",
        "      <td> POLYGON ((-8239093.847102767 4966770.272564691...</td>\n",
        "      <td> POLYGON ((-112.6724726056846 48.09382693018913...</td>\n",
        "    </tr>\n",
        "    <tr>\n",
        "      <th>1000010010</th>\n",
        "      <td> 1</td>\n",
        "      <td>  7</td>\n",
        "      <td> 26.66</td>\n",
        "      <td> 3138.298489</td>\n",
        "      <td> 240.395131</td>\n",
        "      <td> POLYGON ((-8239010.691476121 4966850.24966739,...</td>\n",
        "      <td> POLYGON ((-112.6723061851977 48.09412009655221...</td>\n",
        "    </tr>\n",
        "    <tr>\n",
        "      <th>1000010010</th>\n",
        "      <td> 1</td>\n",
        "      <td> 11</td>\n",
        "      <td> 28.60</td>\n",
        "      <td> 3509.856484</td>\n",
        "      <td> 301.591446</td>\n",
        "      <td> POLYGON ((-8239472.205369915 4966449.2249446, ...</td>\n",
        "      <td> POLYGON ((-112.6733040928157 48.09259833372172...</td>\n",
        "    </tr>\n",
        "  </tbody>\n",
        "</table>\n",
        "</div>"
       ],
       "metadata": {},
       "output_type": "pyout",
       "prompt_number": 6,
       "text": [
        "            boro  GROUND_ELE  HEIGHT_ROO   Shape_Area  Shape_Leng  \\\n",
        "BBL                                                                 \n",
        "1000010010     1           9       10.29   277.908100   68.170905   \n",
        "1000010010     1          10       21.52  3198.675255  365.577623   \n",
        "1000010010     1          25       29.67  3863.966910  256.501983   \n",
        "1000010010     1           7       26.66  3138.298489  240.395131   \n",
        "1000010010     1          11       28.60  3509.856484  301.591446   \n",
        "\n",
        "                                                     geometry  \\\n",
        "BBL                                                             \n",
        "1000010010  POLYGON ((-8239895.129312261 4966979.423426831...   \n",
        "1000010010  POLYGON ((-8240318.942692845 4966178.186055238...   \n",
        "1000010010  POLYGON ((-8239093.847102767 4966770.272564691...   \n",
        "1000010010  POLYGON ((-8239010.691476121 4966850.24966739,...   \n",
        "1000010010  POLYGON ((-8239472.205369915 4966449.2249446, ...   \n",
        "\n",
        "                                              geometry_latlon  \n",
        "BBL                                                            \n",
        "1000010010  POLYGON ((-112.6757750753299 48.09341020820187...  \n",
        "1000010010  POLYGON ((-112.6759406036311 48.09094854809784...  \n",
        "1000010010  POLYGON ((-112.6724726056846 48.09382693018913...  \n",
        "1000010010  POLYGON ((-112.6723061851977 48.09412009655221...  \n",
        "1000010010  POLYGON ((-112.6733040928157 48.09259833372172...  "
       ]
      }
     ],
     "prompt_number": 6
    },
    {
     "cell_type": "markdown",
     "metadata": {},
     "source": [
      "Note the problem here though. These first few buildings in the dataset are located on Governor's Island (just south of the island of Manhattan), and we know that the longitude and latitude of the center of the island is 40.6914\u00b0 N, 74.0161\u00b0 W (ref: [google search](https://www.google.com/search?q=nyc+lat+long&ie=utf-8&oe=utf-8#q=nyc+governor%27s+island+lat+long)), but our conversion notes them as approximately 48.1\u00b0 N, 112.7\u00b0 W. Something is whacky about this conversion."
     ]
    },
    {
     "cell_type": "code",
     "collapsed": false,
     "input": [
      "import pyproj\n",
      "x1 = -8239895.129312261\n",
      "y1 = 4966979.423426831\n",
      "wgs84 = pyproj.Proj(\"+init=EPSG:4326\") # LatLon with WGS84 datum used by GPS units and Google Earth\n",
      "epsg2263 = pyproj.Proj(\"+init=EPSG:2263\",preserve_units=True) # weirdo local nyc data coordinate system\n",
      "print pyproj.transform(epsg2263, wgs84, x1, y1)\n",
      "conv = 0.3048\n",
      "print pyproj.transform(epsg2263, wgs84, x1*conv, y1*conv)"
     ],
     "language": "python",
     "metadata": {},
     "outputs": [
      {
       "output_type": "stream",
       "stream": "stdout",
       "text": [
        "(-112.67577507532987, 48.093410208201874)\n",
        "(-87.23011424552195, 43.594327921961934)\n"
       ]
      }
     ],
     "prompt_number": 7
    },
    {
     "cell_type": "heading",
     "level": 4,
     "metadata": {},
     "source": [
      "Quick Verification"
     ]
    },
    {
     "cell_type": "markdown",
     "metadata": {},
     "source": [
      "A couple of quick graphs to ensure that the data format is roughly as expected."
     ]
    },
    {
     "cell_type": "code",
     "collapsed": false,
     "input": [
      "bldgs.head(500).plot()"
     ],
     "language": "python",
     "metadata": {},
     "outputs": [
      {
       "metadata": {},
       "output_type": "pyout",
       "prompt_number": 8,
       "text": [
        "<matplotlib.axes._subplots.AxesSubplot at 0x20104dc50>"
       ]
      },
      {
       "metadata": {},
       "output_type": "display_data",
       "png": "[encoded data removed]",
       "text": [
        "<matplotlib.figure.Figure at 0x1dd0fd090>"
       ]
      }
     ],
     "prompt_number": 8
    },
    {
     "cell_type": "code",
     "collapsed": false,
     "input": [
      "bldgs[bldgs.boro == 1].plot()"
     ],
     "language": "python",
     "metadata": {},
     "outputs": [
      {
       "metadata": {},
       "output_type": "pyout",
       "prompt_number": 9,
       "text": [
        "<matplotlib.axes._subplots.AxesSubplot at 0x203382150>"
       ]
      },
      {
       "metadata": {},
       "output_type": "display_data",
       "png": "[encoded data removed]",
       "text": [
        "<matplotlib.figure.Figure at 0x203372a10>"
       ]
      }
     ],
     "prompt_number": 9
    },
    {
     "cell_type": "heading",
     "level": 3,
     "metadata": {},
     "source": [
      "Energy Consumption Data"
     ]
    },
    {
     "cell_type": "heading",
     "level": 4,
     "metadata": {},
     "source": [
      "Data Source"
     ]
    },
    {
     "cell_type": "markdown",
     "metadata": {},
     "source": [
      "Energy consumption data is available for a subset of the buildings via ?"
     ]
    },
    {
     "cell_type": "heading",
     "level": 4,
     "metadata": {},
     "source": [
      "Cleaning and Formatting"
     ]
    },
    {
     "cell_type": "markdown",
     "metadata": {},
     "source": [
      "The csv file presents one major challenge before it can be read by Pandas. The last data column in the csv occasionally has newline characters within it - in these cases, the data entry is held within double quotes. In this cleaning script, these intra-entry newline characters are replaced by single space (' ') characters. The script also removes some unnecessary white space from the csv. A new 'cleaned' csv file is produced."
     ]
    },
    {
     "cell_type": "code",
     "collapsed": false,
     "input": [
      "filename = 'Energy_and_Water_Data_Disclosure_for_Local_Law_84__2012_.csv'\n",
      "cleanedcsv = ''\n",
      "multilinekeeper = ''\n",
      "with open(filename,'rU') as f:\n",
      "    for line in f:\n",
      "        line = re.sub(' +',' ',line)\n",
      "        line = re.sub(', ',',',line)\n",
      "        if multilinekeeper == '':\n",
      "            if len(re.findall('\"',line)) == 1:\n",
      "                multilinekeeper = line.strip()\n",
      "            else:\n",
      "                cleanedcsv += line\n",
      "        else:\n",
      "            if '\"' in line:\n",
      "                cleanedcsv += multilinekeeper + line\n",
      "                multilinekeeper = ''\n",
      "            else:\n",
      "                multilinekeeper += ' ' + line.strip()\n",
      "                \n",
      "with open('cleaned_' + filename,'w') as f:\n",
      "    f.write(cleanedcsv)"
     ],
     "language": "python",
     "metadata": {},
     "outputs": [],
     "prompt_number": 10
    },
    {
     "cell_type": "markdown",
     "metadata": {},
     "source": [
      "The cleaned csv can now be read into a dataframe by Pandas."
     ]
    },
    {
     "cell_type": "code",
     "collapsed": false,
     "input": [
      "energy = read_csv('cleaned_' + filename)\n",
      "print 'number of rows:\\t' + str(len(energy))\n",
      "print 'columns:'\n",
      "print energy.columns"
     ],
     "language": "python",
     "metadata": {},
     "outputs": [
      {
       "output_type": "stream",
       "stream": "stdout",
       "text": [
        "number of rows:\t14112\n",
        "columns:\n",
        "Index([u'BBL', u'Street Number', u'Street Name', u'Borough', u'Zip', u'Benchmarking Submission', u'Entry Number', u'Site EUI(kBtu/ft2)', u'Weather Normalized Source EUI(kBtu/ft2)', u'Indoor Water Intensity (All Water Sources)(gal/ft2)', u'Reported Water Method', u'ENERGY STAR Score', u'Total GHG Emissions(MtCO2e)', u'Property Floor Area (Buildngs and Parking)(ft2)', u'Primary Property Type - Self Selected', u'Number of Buildings', u'Reported BINs'], dtype='object')\n"
       ]
      }
     ],
     "prompt_number": 11
    },
    {
     "cell_type": "markdown",
     "metadata": {},
     "source": [
      "Note that the number of entries in this table (14,112) is much smaller than the number of entries in the buildings table (1,082,381).\n",
      "\n",
      "The BBL column was read in as integers, but want it to be strings in order to to compare with the bldgs BBL key. For clarity, we also take only the subset of data columns we are interested in. And we set the 'BBL' column to be the index."
     ]
    },
    {
     "cell_type": "code",
     "collapsed": false,
     "input": [
      "energy['BBL'] = energy['BBL'].astype(str)\n",
      "energy = energy.ix[:,[0,1,2,7,8,11,12,13,14,15]]\n",
      "energy.set_index('BBL', inplace=True)\n",
      "energy.sort(inplace=True)\n",
      "energy.head()"
     ],
     "language": "python",
     "metadata": {},
     "outputs": [
      {
       "html": [
        "<div style=\"max-height:1000px;max-width:1500px;overflow:auto;\">\n",
        "<table border=\"1\" class=\"dataframe\">\n",
        "  <thead>\n",
        "    <tr style=\"text-align: right;\">\n",
        "      <th></th>\n",
        "      <th>Street Number</th>\n",
        "      <th>Street Name</th>\n",
        "      <th>Site EUI(kBtu/ft2)</th>\n",
        "      <th>Weather Normalized Source EUI(kBtu/ft2)</th>\n",
        "      <th>ENERGY STAR Score</th>\n",
        "      <th>Total GHG Emissions(MtCO2e)</th>\n",
        "      <th>Property Floor Area (Buildngs and Parking)(ft2)</th>\n",
        "      <th>Primary Property Type - Self Selected</th>\n",
        "      <th>Number of Buildings</th>\n",
        "    </tr>\n",
        "    <tr>\n",
        "      <th>BBL</th>\n",
        "      <th></th>\n",
        "      <th></th>\n",
        "      <th></th>\n",
        "      <th></th>\n",
        "      <th></th>\n",
        "      <th></th>\n",
        "      <th></th>\n",
        "      <th></th>\n",
        "      <th></th>\n",
        "    </tr>\n",
        "  </thead>\n",
        "  <tbody>\n",
        "    <tr>\n",
        "      <th>1000010010</th>\n",
        "      <td>   1</td>\n",
        "      <td> GOVERNORS ISLAND</td>\n",
        "      <td>   NaN</td>\n",
        "      <td>   NaN</td>\n",
        "      <td> NaN</td>\n",
        "      <td>      NaN</td>\n",
        "      <td>     NaN</td>\n",
        "      <td>                 NaN</td>\n",
        "      <td> 1</td>\n",
        "    </tr>\n",
        "    <tr>\n",
        "      <th>1000020002</th>\n",
        "      <td> NaN</td>\n",
        "      <td>  MARGINAL STREET</td>\n",
        "      <td>   NaN</td>\n",
        "      <td>   NaN</td>\n",
        "      <td> NaN</td>\n",
        "      <td>      NaN</td>\n",
        "      <td>     NaN</td>\n",
        "      <td>                 NaN</td>\n",
        "      <td> 0</td>\n",
        "    </tr>\n",
        "    <tr>\n",
        "      <th>1000047501</th>\n",
        "      <td>   1</td>\n",
        "      <td>     WATER STREET</td>\n",
        "      <td> 102.0</td>\n",
        "      <td> 287.9</td>\n",
        "      <td>  75</td>\n",
        "      <td> 25932.68</td>\n",
        "      <td> 2428325</td>\n",
        "      <td>              Office</td>\n",
        "      <td> 1</td>\n",
        "    </tr>\n",
        "    <tr>\n",
        "      <th>1000057501</th>\n",
        "      <td> 125</td>\n",
        "      <td>     BROAD STREET</td>\n",
        "      <td> 119.6</td>\n",
        "      <td> 261.5</td>\n",
        "      <td>  70</td>\n",
        "      <td> 11637.42</td>\n",
        "      <td> 1338000</td>\n",
        "      <td>              Office</td>\n",
        "      <td> 1</td>\n",
        "    </tr>\n",
        "    <tr>\n",
        "      <th>1000087501</th>\n",
        "      <td>  39</td>\n",
        "      <td> WHITEHALL STREET</td>\n",
        "      <td>  59.0</td>\n",
        "      <td> 163.2</td>\n",
        "      <td> NaN</td>\n",
        "      <td>   848.55</td>\n",
        "      <td>  169055</td>\n",
        "      <td> Multifamily Housing</td>\n",
        "      <td> 1</td>\n",
        "    </tr>\n",
        "  </tbody>\n",
        "</table>\n",
        "</div>"
       ],
       "metadata": {},
       "output_type": "pyout",
       "prompt_number": 12,
       "text": [
        "           Street Number       Street Name  Site EUI(kBtu/ft2)  \\\n",
        "BBL                                                              \n",
        "1000010010             1  GOVERNORS ISLAND                 NaN   \n",
        "1000020002           NaN   MARGINAL STREET                 NaN   \n",
        "1000047501             1      WATER STREET               102.0   \n",
        "1000057501           125      BROAD STREET               119.6   \n",
        "1000087501            39  WHITEHALL STREET                59.0   \n",
        "\n",
        "            Weather Normalized Source EUI(kBtu/ft2) ENERGY STAR Score  \\\n",
        "BBL                                                                     \n",
        "1000010010                                      NaN               NaN   \n",
        "1000020002                                      NaN               NaN   \n",
        "1000047501                                    287.9                75   \n",
        "1000057501                                    261.5                70   \n",
        "1000087501                                    163.2               NaN   \n",
        "\n",
        "            Total GHG Emissions(MtCO2e)  \\\n",
        "BBL                                       \n",
        "1000010010                          NaN   \n",
        "1000020002                          NaN   \n",
        "1000047501                     25932.68   \n",
        "1000057501                     11637.42   \n",
        "1000087501                       848.55   \n",
        "\n",
        "            Property Floor Area (Buildngs and Parking)(ft2)  \\\n",
        "BBL                                                           \n",
        "1000010010                                              NaN   \n",
        "1000020002                                              NaN   \n",
        "1000047501                                          2428325   \n",
        "1000057501                                          1338000   \n",
        "1000087501                                           169055   \n",
        "\n",
        "           Primary Property Type - Self Selected  Number of Buildings  \n",
        "BBL                                                                    \n",
        "1000010010                                   NaN                    1  \n",
        "1000020002                                   NaN                    0  \n",
        "1000047501                                Office                    1  \n",
        "1000057501                                Office                    1  \n",
        "1000087501                   Multifamily Housing                    1  "
       ]
      }
     ],
     "prompt_number": 12
    },
    {
     "cell_type": "heading",
     "level": 4,
     "metadata": {},
     "source": [
      "Quick Verification"
     ]
    },
    {
     "cell_type": "code",
     "collapsed": false,
     "input": [
      "energy.plot(x=2,y=5,kind='scatter')"
     ],
     "language": "python",
     "metadata": {},
     "outputs": [
      {
       "metadata": {},
       "output_type": "pyout",
       "prompt_number": 13,
       "text": [
        "<matplotlib.axes._subplots.AxesSubplot at 0x1f1399f90>"
       ]
      },
      {
       "metadata": {},
       "output_type": "display_data",
       "png": "[encoded data removed]",
       "text": [
        "<matplotlib.figure.Figure at 0x1f13b1890>"
       ]
      }
     ],
     "prompt_number": 13
    },
    {
     "cell_type": "heading",
     "level": 3,
     "metadata": {},
     "source": [
      "Merging Data Tables"
     ]
    },
    {
     "cell_type": "markdown",
     "metadata": {},
     "source": [
      "An outer merge brings the two data tables together. For convenience, we add two new columns to denote which original tables had which entries (which will let us subset data when desired, akin to taking an inner merge but without duplication). Note that the merge results in a Pandas DataFrame object, rather than a GeoPandas GeoDataFrame object."
     ]
    },
    {
     "cell_type": "code",
     "collapsed": false,
     "input": [
      "bldgsenergy = merge(bldgs, energy, left_index=True, right_index=True, how='outer')"
     ],
     "language": "python",
     "metadata": {},
     "outputs": [],
     "prompt_number": 14
    },
    {
     "cell_type": "code",
     "collapsed": false,
     "input": [
      "print 'number of rows:\\t' + str(len(bldgsenergy))\n",
      "print 'columns:'\n",
      "print bldgsenergy.columns\n",
      "bldgsenergy.ix[:,['HEIGHT_ROO','geometry','geometry_latlon','Site EUI(kBtu/ft2)','Total GHG Emissions(MtCO2e)',\n",
      "                  'Number of Buildings']].head()"
     ],
     "language": "python",
     "metadata": {},
     "outputs": [
      {
       "output_type": "stream",
       "stream": "stdout",
       "text": [
        "number of rows:\t1100100\n",
        "columns:\n",
        "Index([u'boro', u'GROUND_ELE', u'HEIGHT_ROO', u'Shape_Area', u'Shape_Leng', u'geometry', u'geometry_latlon', u'Street Number', u'Street Name', u'Site EUI(kBtu/ft2)', u'Weather Normalized Source EUI(kBtu/ft2)', u'ENERGY STAR Score', u'Total GHG Emissions(MtCO2e)', u'Property Floor Area (Buildngs and Parking)(ft2)', u'Primary Property Type - Self Selected', u'Number of Buildings'], dtype='object')\n"
       ]
      },
      {
       "html": [
        "<div style=\"max-height:1000px;max-width:1500px;overflow:auto;\">\n",
        "<table border=\"1\" class=\"dataframe\">\n",
        "  <thead>\n",
        "    <tr style=\"text-align: right;\">\n",
        "      <th></th>\n",
        "      <th>HEIGHT_ROO</th>\n",
        "      <th>geometry</th>\n",
        "      <th>geometry_latlon</th>\n",
        "      <th>Site EUI(kBtu/ft2)</th>\n",
        "      <th>Total GHG Emissions(MtCO2e)</th>\n",
        "      <th>Number of Buildings</th>\n",
        "    </tr>\n",
        "    <tr>\n",
        "      <th>BBL</th>\n",
        "      <th></th>\n",
        "      <th></th>\n",
        "      <th></th>\n",
        "      <th></th>\n",
        "      <th></th>\n",
        "      <th></th>\n",
        "    </tr>\n",
        "  </thead>\n",
        "  <tbody>\n",
        "    <tr>\n",
        "      <th>1000010010</th>\n",
        "      <td> 10.29</td>\n",
        "      <td> POLYGON ((-8239895.129312261 4966979.423426831...</td>\n",
        "      <td> POLYGON ((-112.6757750753299 48.09341020820187...</td>\n",
        "      <td>NaN</td>\n",
        "      <td>NaN</td>\n",
        "      <td> 1</td>\n",
        "    </tr>\n",
        "    <tr>\n",
        "      <th>1000010010</th>\n",
        "      <td> 21.52</td>\n",
        "      <td> POLYGON ((-8240318.942692845 4966178.186055238...</td>\n",
        "      <td> POLYGON ((-112.6759406036311 48.09094854809784...</td>\n",
        "      <td>NaN</td>\n",
        "      <td>NaN</td>\n",
        "      <td> 1</td>\n",
        "    </tr>\n",
        "    <tr>\n",
        "      <th>1000010010</th>\n",
        "      <td> 29.67</td>\n",
        "      <td> POLYGON ((-8239093.847102767 4966770.272564691...</td>\n",
        "      <td> POLYGON ((-112.6724726056846 48.09382693018913...</td>\n",
        "      <td>NaN</td>\n",
        "      <td>NaN</td>\n",
        "      <td> 1</td>\n",
        "    </tr>\n",
        "    <tr>\n",
        "      <th>1000010010</th>\n",
        "      <td> 26.66</td>\n",
        "      <td> POLYGON ((-8239010.691476121 4966850.24966739,...</td>\n",
        "      <td> POLYGON ((-112.6723061851977 48.09412009655221...</td>\n",
        "      <td>NaN</td>\n",
        "      <td>NaN</td>\n",
        "      <td> 1</td>\n",
        "    </tr>\n",
        "    <tr>\n",
        "      <th>1000010010</th>\n",
        "      <td> 28.60</td>\n",
        "      <td> POLYGON ((-8239472.205369915 4966449.2249446, ...</td>\n",
        "      <td> POLYGON ((-112.6733040928157 48.09259833372172...</td>\n",
        "      <td>NaN</td>\n",
        "      <td>NaN</td>\n",
        "      <td> 1</td>\n",
        "    </tr>\n",
        "  </tbody>\n",
        "</table>\n",
        "</div>"
       ],
       "metadata": {},
       "output_type": "pyout",
       "prompt_number": 15,
       "text": [
        "            HEIGHT_ROO                                           geometry  \\\n",
        "BBL                                                                         \n",
        "1000010010       10.29  POLYGON ((-8239895.129312261 4966979.423426831...   \n",
        "1000010010       21.52  POLYGON ((-8240318.942692845 4966178.186055238...   \n",
        "1000010010       29.67  POLYGON ((-8239093.847102767 4966770.272564691...   \n",
        "1000010010       26.66  POLYGON ((-8239010.691476121 4966850.24966739,...   \n",
        "1000010010       28.60  POLYGON ((-8239472.205369915 4966449.2249446, ...   \n",
        "\n",
        "                                              geometry_latlon  \\\n",
        "BBL                                                             \n",
        "1000010010  POLYGON ((-112.6757750753299 48.09341020820187...   \n",
        "1000010010  POLYGON ((-112.6759406036311 48.09094854809784...   \n",
        "1000010010  POLYGON ((-112.6724726056846 48.09382693018913...   \n",
        "1000010010  POLYGON ((-112.6723061851977 48.09412009655221...   \n",
        "1000010010  POLYGON ((-112.6733040928157 48.09259833372172...   \n",
        "\n",
        "            Site EUI(kBtu/ft2)  Total GHG Emissions(MtCO2e)  \\\n",
        "BBL                                                           \n",
        "1000010010                 NaN                          NaN   \n",
        "1000010010                 NaN                          NaN   \n",
        "1000010010                 NaN                          NaN   \n",
        "1000010010                 NaN                          NaN   \n",
        "1000010010                 NaN                          NaN   \n",
        "\n",
        "            Number of Buildings  \n",
        "BBL                              \n",
        "1000010010                    1  \n",
        "1000010010                    1  \n",
        "1000010010                    1  \n",
        "1000010010                    1  \n",
        "1000010010                    1  "
       ]
      }
     ],
     "prompt_number": 15
    },
    {
     "cell_type": "code",
     "collapsed": false,
     "input": [
      "def inbldgs(i):\n",
      "    return i in bldgs.index\n",
      "def inenergy(i):\n",
      "    return i in energy.index\n",
      "bldgsenergy['geometry_avail'] = Series(bldgsenergy.index,index=bldgsenergy.index).apply(inbldgs)\n",
      "bldgsenergy['energy_avail'] = Series(bldgsenergy.index,index=bldgsenergy.index).apply(inenergy)\n",
      "bldgsenergy.ix[:,['geometry_avail','energy_avail','HEIGHT_ROO','geometry','geometry_latlon','Site EUI(kBtu/ft2)',\n",
      "                  'Total GHG Emissions(MtCO2e)','Number of Buildings']].head()"
     ],
     "language": "python",
     "metadata": {},
     "outputs": [
      {
       "html": [
        "<div style=\"max-height:1000px;max-width:1500px;overflow:auto;\">\n",
        "<table border=\"1\" class=\"dataframe\">\n",
        "  <thead>\n",
        "    <tr style=\"text-align: right;\">\n",
        "      <th></th>\n",
        "      <th>geometry_avail</th>\n",
        "      <th>energy_avail</th>\n",
        "      <th>HEIGHT_ROO</th>\n",
        "      <th>geometry</th>\n",
        "      <th>geometry_latlon</th>\n",
        "      <th>Site EUI(kBtu/ft2)</th>\n",
        "      <th>Total GHG Emissions(MtCO2e)</th>\n",
        "      <th>Number of Buildings</th>\n",
        "    </tr>\n",
        "    <tr>\n",
        "      <th>BBL</th>\n",
        "      <th></th>\n",
        "      <th></th>\n",
        "      <th></th>\n",
        "      <th></th>\n",
        "      <th></th>\n",
        "      <th></th>\n",
        "      <th></th>\n",
        "      <th></th>\n",
        "    </tr>\n",
        "  </thead>\n",
        "  <tbody>\n",
        "    <tr>\n",
        "      <th>1000010010</th>\n",
        "      <td> True</td>\n",
        "      <td> True</td>\n",
        "      <td> 10.29</td>\n",
        "      <td> POLYGON ((-8239895.129312261 4966979.423426831...</td>\n",
        "      <td> POLYGON ((-112.6757750753299 48.09341020820187...</td>\n",
        "      <td>NaN</td>\n",
        "      <td>NaN</td>\n",
        "      <td> 1</td>\n",
        "    </tr>\n",
        "    <tr>\n",
        "      <th>1000010010</th>\n",
        "      <td> True</td>\n",
        "      <td> True</td>\n",
        "      <td> 21.52</td>\n",
        "      <td> POLYGON ((-8240318.942692845 4966178.186055238...</td>\n",
        "      <td> POLYGON ((-112.6759406036311 48.09094854809784...</td>\n",
        "      <td>NaN</td>\n",
        "      <td>NaN</td>\n",
        "      <td> 1</td>\n",
        "    </tr>\n",
        "    <tr>\n",
        "      <th>1000010010</th>\n",
        "      <td> True</td>\n",
        "      <td> True</td>\n",
        "      <td> 29.67</td>\n",
        "      <td> POLYGON ((-8239093.847102767 4966770.272564691...</td>\n",
        "      <td> POLYGON ((-112.6724726056846 48.09382693018913...</td>\n",
        "      <td>NaN</td>\n",
        "      <td>NaN</td>\n",
        "      <td> 1</td>\n",
        "    </tr>\n",
        "    <tr>\n",
        "      <th>1000010010</th>\n",
        "      <td> True</td>\n",
        "      <td> True</td>\n",
        "      <td> 26.66</td>\n",
        "      <td> POLYGON ((-8239010.691476121 4966850.24966739,...</td>\n",
        "      <td> POLYGON ((-112.6723061851977 48.09412009655221...</td>\n",
        "      <td>NaN</td>\n",
        "      <td>NaN</td>\n",
        "      <td> 1</td>\n",
        "    </tr>\n",
        "    <tr>\n",
        "      <th>1000010010</th>\n",
        "      <td> True</td>\n",
        "      <td> True</td>\n",
        "      <td> 28.60</td>\n",
        "      <td> POLYGON ((-8239472.205369915 4966449.2249446, ...</td>\n",
        "      <td> POLYGON ((-112.6733040928157 48.09259833372172...</td>\n",
        "      <td>NaN</td>\n",
        "      <td>NaN</td>\n",
        "      <td> 1</td>\n",
        "    </tr>\n",
        "  </tbody>\n",
        "</table>\n",
        "</div>"
       ],
       "metadata": {},
       "output_type": "pyout",
       "prompt_number": 16,
       "text": [
        "           geometry_avail energy_avail  HEIGHT_ROO  \\\n",
        "BBL                                                  \n",
        "1000010010           True         True       10.29   \n",
        "1000010010           True         True       21.52   \n",
        "1000010010           True         True       29.67   \n",
        "1000010010           True         True       26.66   \n",
        "1000010010           True         True       28.60   \n",
        "\n",
        "                                                     geometry  \\\n",
        "BBL                                                             \n",
        "1000010010  POLYGON ((-8239895.129312261 4966979.423426831...   \n",
        "1000010010  POLYGON ((-8240318.942692845 4966178.186055238...   \n",
        "1000010010  POLYGON ((-8239093.847102767 4966770.272564691...   \n",
        "1000010010  POLYGON ((-8239010.691476121 4966850.24966739,...   \n",
        "1000010010  POLYGON ((-8239472.205369915 4966449.2249446, ...   \n",
        "\n",
        "                                              geometry_latlon  \\\n",
        "BBL                                                             \n",
        "1000010010  POLYGON ((-112.6757750753299 48.09341020820187...   \n",
        "1000010010  POLYGON ((-112.6759406036311 48.09094854809784...   \n",
        "1000010010  POLYGON ((-112.6724726056846 48.09382693018913...   \n",
        "1000010010  POLYGON ((-112.6723061851977 48.09412009655221...   \n",
        "1000010010  POLYGON ((-112.6733040928157 48.09259833372172...   \n",
        "\n",
        "            Site EUI(kBtu/ft2)  Total GHG Emissions(MtCO2e)  \\\n",
        "BBL                                                           \n",
        "1000010010                 NaN                          NaN   \n",
        "1000010010                 NaN                          NaN   \n",
        "1000010010                 NaN                          NaN   \n",
        "1000010010                 NaN                          NaN   \n",
        "1000010010                 NaN                          NaN   \n",
        "\n",
        "            Number of Buildings  \n",
        "BBL                              \n",
        "1000010010                    1  \n",
        "1000010010                    1  \n",
        "1000010010                    1  \n",
        "1000010010                    1  \n",
        "1000010010                    1  "
       ]
      }
     ],
     "prompt_number": 16
    },
    {
     "cell_type": "code",
     "collapsed": false,
     "input": [
      "print 'number of rows in bldgs:\\t\\t\\t\\t\\t' + str(len(bldgs))\n",
      "print 'number of rows in energy:\\t\\t\\t\\t\\t' + str(len(energy))\n",
      "print 'number of rows in bldgsenergy:\\t\\t\\t\\t\\t' + str(len(bldgsenergy))\n",
      "print 'number of rows in bldgsenergy with geometry:\\t\\t\\t' + str(len(bldgsenergy[bldgsenergy['geometry_avail']]))\n",
      "print 'number of rows in bldgsenergy with energy:\\t\\t\\t' + str(len(bldgsenergy[bldgsenergy['energy_avail']]))\n",
      "print 'number of rows in bldgsenergy with both gometry and energy:\\t' + \\\n",
      "                            str(len(bldgsenergy[bldgsenergy['energy_avail'] & bldgsenergy['geometry_avail']]))"
     ],
     "language": "python",
     "metadata": {},
     "outputs": [
      {
       "output_type": "stream",
       "stream": "stdout",
       "text": [
        "number of rows in bldgs:\t\t\t\t\t1082381\n",
        "number of rows in energy:\t\t\t\t\t14112\n",
        "number of rows in bldgsenergy:\t\t\t\t\t1100100\n",
        "number of rows in bldgsenergy with geometry:\t\t\t1099761"
       ]
      },
      {
       "output_type": "stream",
       "stream": "stdout",
       "text": [
        "\n",
        "number of rows in bldgsenergy with energy:\t\t\t45620\n",
        "number of rows in bldgsenergy with both gometry and energy:\t45281"
       ]
      },
      {
       "output_type": "stream",
       "stream": "stdout",
       "text": [
        "\n"
       ]
      }
     ],
     "prompt_number": 17
    },
    {
     "cell_type": "heading",
     "level": 4,
     "metadata": {},
     "source": [
      "Notes"
     ]
    },
    {
     "cell_type": "markdown",
     "metadata": {},
     "source": [
      "There look to be lots of buildings that share a BBL identifier. Pain. "
     ]
    },
    {
     "cell_type": "heading",
     "level": 4,
     "metadata": {},
     "source": [
      "Summary"
     ]
    },
    {
     "cell_type": "markdown",
     "metadata": {},
     "source": [
      "We now have a tidy data table in the variable 'bldgsenergy'."
     ]
    },
    {
     "cell_type": "heading",
     "level": 1,
     "metadata": {},
     "source": [
      "GeoJSON Export and TopoJSON Conversion"
     ]
    },
    {
     "cell_type": "markdown",
     "metadata": {},
     "source": [
      "For the d3 visualization, we will use just a small section of the city, and will only consider those buildings for which we have both geometry data and energy data."
     ]
    },
    {
     "cell_type": "code",
     "collapsed": false,
     "input": [
      "bldgsenergygeo = GeoDataFrame(bldgsenergy[bldgsenergy['geometry_avail'] & bldgsenergy['energy_avail']])"
     ],
     "language": "python",
     "metadata": {},
     "outputs": [],
     "prompt_number": 126
    },
    {
     "cell_type": "code",
     "collapsed": false,
     "input": [
      "bldgsenergygeo.head(500).plot()"
     ],
     "language": "python",
     "metadata": {},
     "outputs": [
      {
       "metadata": {},
       "output_type": "pyout",
       "prompt_number": 106,
       "text": [
        "<matplotlib.axes._subplots.AxesSubplot at 0x2bf3bd350>"
       ]
      },
      {
       "metadata": {},
       "output_type": "display_data",
       "png": "[encoded data removed]",
       "text": [
        "<matplotlib.figure.Figure at 0x2d9b24150>"
       ]
      }
     ],
     "prompt_number": 106
    },
    {
     "cell_type": "markdown",
     "metadata": {},
     "source": [
      "For the GeoJSON export, we will use the latitude and longitude as the geometry."
     ]
    },
    {
     "cell_type": "code",
     "collapsed": false,
     "input": [
      "bldgsenergygeo.rename(columns={'geometry':'geometryfeet'}, inplace=True)\n",
      "bldgsenergygeo.rename(columns={'geometry_latlon':'geometry'}, inplace=True)"
     ],
     "language": "python",
     "metadata": {},
     "outputs": [],
     "prompt_number": 127
    },
    {
     "cell_type": "code",
     "collapsed": false,
     "input": [
      "bldgsenergygeo.head(500).plot()"
     ],
     "language": "python",
     "metadata": {},
     "outputs": [
      {
       "metadata": {},
       "output_type": "pyout",
       "prompt_number": 111,
       "text": [
        "<matplotlib.axes._subplots.AxesSubplot at 0x2bb464d50>"
       ]
      },
      {
       "metadata": {},
       "output_type": "display_data",
       "png": "[encoded data removed]",
       "text": [
        "<matplotlib.figure.Figure at 0x2d97cab10>"
       ]
      }
     ],
     "prompt_number": 111
    },
    {
     "cell_type": "markdown",
     "metadata": {},
     "source": [
      "In the interactive graph, we want to have the address variables reformatted to a single column of strings."
     ]
    },
    {
     "cell_type": "code",
     "collapsed": false,
     "input": [
      "bldgsenergygeo['Address'] = bldgsenergygeo['Street Number'] + ' ' + bldgsenergygeo['Street Name']"
     ],
     "language": "python",
     "metadata": {},
     "outputs": [],
     "prompt_number": 128
    },
    {
     "cell_type": "markdown",
     "metadata": {},
     "source": [
      "We want to keep the file size to a minimum in order to keep the graph interaction smooth, so we will only include the columns we will use."
     ]
    },
    {
     "cell_type": "code",
     "collapsed": false,
     "input": [
      "bldgsenergygeo.columns"
     ],
     "language": "python",
     "metadata": {},
     "outputs": [
      {
       "metadata": {},
       "output_type": "pyout",
       "prompt_number": 129,
       "text": [
        "Index([u'boro', u'GROUND_ELE', u'HEIGHT_ROO', u'Shape_Area', u'Shape_Leng', u'geometryfeet', u'geometry', u'Street Number', u'Street Name', u'Site EUI(kBtu/ft2)', u'Weather Normalized Source EUI(kBtu/ft2)', u'ENERGY STAR Score', u'Total GHG Emissions(MtCO2e)', u'Property Floor Area (Buildngs and Parking)(ft2)', u'Primary Property Type - Self Selected', u'Number of Buildings', u'geometry_avail', u'energy_avail', u'Address'], dtype='object')"
       ]
      }
     ],
     "prompt_number": 129
    },
    {
     "cell_type": "code",
     "collapsed": false,
     "input": [
      "bldgsenergygeo = bldgsenergygeo.ix[:,[0,2,6,9,10,11,12,13,14,18]]\n",
      "bldgsenergygeo.head()"
     ],
     "language": "python",
     "metadata": {},
     "outputs": [
      {
       "html": [
        "<div style=\"max-height:1000px;max-width:1500px;overflow:auto;\">\n",
        "<table border=\"1\" class=\"dataframe\">\n",
        "  <thead>\n",
        "    <tr style=\"text-align: right;\">\n",
        "      <th></th>\n",
        "      <th>boro</th>\n",
        "      <th>HEIGHT_ROO</th>\n",
        "      <th>geometry</th>\n",
        "      <th>Site EUI(kBtu/ft2)</th>\n",
        "      <th>Weather Normalized Source EUI(kBtu/ft2)</th>\n",
        "      <th>ENERGY STAR Score</th>\n",
        "      <th>Total GHG Emissions(MtCO2e)</th>\n",
        "      <th>Property Floor Area (Buildngs and Parking)(ft2)</th>\n",
        "      <th>Primary Property Type - Self Selected</th>\n",
        "      <th>Address</th>\n",
        "    </tr>\n",
        "    <tr>\n",
        "      <th>BBL</th>\n",
        "      <th></th>\n",
        "      <th></th>\n",
        "      <th></th>\n",
        "      <th></th>\n",
        "      <th></th>\n",
        "      <th></th>\n",
        "      <th></th>\n",
        "      <th></th>\n",
        "      <th></th>\n",
        "      <th></th>\n",
        "    </tr>\n",
        "  </thead>\n",
        "  <tbody>\n",
        "    <tr>\n",
        "      <th>1000010010</th>\n",
        "      <td> 1</td>\n",
        "      <td> 10.29</td>\n",
        "      <td> POLYGON ((-112.6757750753299 48.09341020820187...</td>\n",
        "      <td>NaN</td>\n",
        "      <td>NaN</td>\n",
        "      <td> NaN</td>\n",
        "      <td>NaN</td>\n",
        "      <td>NaN</td>\n",
        "      <td> NaN</td>\n",
        "      <td> 1 GOVERNORS ISLAND</td>\n",
        "    </tr>\n",
        "    <tr>\n",
        "      <th>1000010010</th>\n",
        "      <td> 1</td>\n",
        "      <td> 21.52</td>\n",
        "      <td> POLYGON ((-112.6759406036311 48.09094854809784...</td>\n",
        "      <td>NaN</td>\n",
        "      <td>NaN</td>\n",
        "      <td> NaN</td>\n",
        "      <td>NaN</td>\n",
        "      <td>NaN</td>\n",
        "      <td> NaN</td>\n",
        "      <td> 1 GOVERNORS ISLAND</td>\n",
        "    </tr>\n",
        "    <tr>\n",
        "      <th>1000010010</th>\n",
        "      <td> 1</td>\n",
        "      <td> 29.67</td>\n",
        "      <td> POLYGON ((-112.6724726056846 48.09382693018913...</td>\n",
        "      <td>NaN</td>\n",
        "      <td>NaN</td>\n",
        "      <td> NaN</td>\n",
        "      <td>NaN</td>\n",
        "      <td>NaN</td>\n",
        "      <td> NaN</td>\n",
        "      <td> 1 GOVERNORS ISLAND</td>\n",
        "    </tr>\n",
        "    <tr>\n",
        "      <th>1000010010</th>\n",
        "      <td> 1</td>\n",
        "      <td> 26.66</td>\n",
        "      <td> POLYGON ((-112.6723061851977 48.09412009655221...</td>\n",
        "      <td>NaN</td>\n",
        "      <td>NaN</td>\n",
        "      <td> NaN</td>\n",
        "      <td>NaN</td>\n",
        "      <td>NaN</td>\n",
        "      <td> NaN</td>\n",
        "      <td> 1 GOVERNORS ISLAND</td>\n",
        "    </tr>\n",
        "    <tr>\n",
        "      <th>1000010010</th>\n",
        "      <td> 1</td>\n",
        "      <td> 28.60</td>\n",
        "      <td> POLYGON ((-112.6733040928157 48.09259833372172...</td>\n",
        "      <td>NaN</td>\n",
        "      <td>NaN</td>\n",
        "      <td> NaN</td>\n",
        "      <td>NaN</td>\n",
        "      <td>NaN</td>\n",
        "      <td> NaN</td>\n",
        "      <td> 1 GOVERNORS ISLAND</td>\n",
        "    </tr>\n",
        "  </tbody>\n",
        "</table>\n",
        "</div>"
       ],
       "metadata": {},
       "output_type": "pyout",
       "prompt_number": 130,
       "text": [
        "            boro  HEIGHT_ROO  \\\n",
        "BBL                            \n",
        "1000010010     1       10.29   \n",
        "1000010010     1       21.52   \n",
        "1000010010     1       29.67   \n",
        "1000010010     1       26.66   \n",
        "1000010010     1       28.60   \n",
        "\n",
        "                                                     geometry  \\\n",
        "BBL                                                             \n",
        "1000010010  POLYGON ((-112.6757750753299 48.09341020820187...   \n",
        "1000010010  POLYGON ((-112.6759406036311 48.09094854809784...   \n",
        "1000010010  POLYGON ((-112.6724726056846 48.09382693018913...   \n",
        "1000010010  POLYGON ((-112.6723061851977 48.09412009655221...   \n",
        "1000010010  POLYGON ((-112.6733040928157 48.09259833372172...   \n",
        "\n",
        "            Site EUI(kBtu/ft2)  Weather Normalized Source EUI(kBtu/ft2)  \\\n",
        "BBL                                                                       \n",
        "1000010010                 NaN                                      NaN   \n",
        "1000010010                 NaN                                      NaN   \n",
        "1000010010                 NaN                                      NaN   \n",
        "1000010010                 NaN                                      NaN   \n",
        "1000010010                 NaN                                      NaN   \n",
        "\n",
        "           ENERGY STAR Score  Total GHG Emissions(MtCO2e)  \\\n",
        "BBL                                                         \n",
        "1000010010               NaN                          NaN   \n",
        "1000010010               NaN                          NaN   \n",
        "1000010010               NaN                          NaN   \n",
        "1000010010               NaN                          NaN   \n",
        "1000010010               NaN                          NaN   \n",
        "\n",
        "            Property Floor Area (Buildngs and Parking)(ft2)  \\\n",
        "BBL                                                           \n",
        "1000010010                                              NaN   \n",
        "1000010010                                              NaN   \n",
        "1000010010                                              NaN   \n",
        "1000010010                                              NaN   \n",
        "1000010010                                              NaN   \n",
        "\n",
        "           Primary Property Type - Self Selected             Address  \n",
        "BBL                                                                   \n",
        "1000010010                                   NaN  1 GOVERNORS ISLAND  \n",
        "1000010010                                   NaN  1 GOVERNORS ISLAND  \n",
        "1000010010                                   NaN  1 GOVERNORS ISLAND  \n",
        "1000010010                                   NaN  1 GOVERNORS ISLAND  \n",
        "1000010010                                   NaN  1 GOVERNORS ISLAND  "
       ]
      }
     ],
     "prompt_number": 130
    },
    {
     "cell_type": "markdown",
     "metadata": {},
     "source": [
      "For the graph, we are only interested in a region roughly correlated with Midtown in Manhattan - we will select only those rows for which boro = 1 and they have points between 48.117 and 48.129 degrees latitude (noting that these are not the proper latitude numbers, given our earlier problem)."
     ]
    },
    {
     "cell_type": "code",
     "collapsed": false,
     "input": [
      "bldgsenergygeomidtown = bldgsenergygeo[(bldgsenergygeo.boro == 1) & \n",
      "                                       (bldgsenergygeo.geometry.bounds['miny'] < 48.129) & \n",
      "                                       (bldgsenergygeo.geometry.bounds['maxy'] > 48.117) ]\n",
      "print len(bldgsenergygeomidtown)\n",
      "bldgsenergygeomidtown.head()"
     ],
     "language": "python",
     "metadata": {},
     "outputs": [
      {
       "output_type": "stream",
       "stream": "stdout",
       "text": [
        "629\n"
       ]
      },
      {
       "html": [
        "<div style=\"max-height:1000px;max-width:1500px;overflow:auto;\">\n",
        "<table border=\"1\" class=\"dataframe\">\n",
        "  <thead>\n",
        "    <tr style=\"text-align: right;\">\n",
        "      <th></th>\n",
        "      <th>boro</th>\n",
        "      <th>HEIGHT_ROO</th>\n",
        "      <th>geometry</th>\n",
        "      <th>Site EUI(kBtu/ft2)</th>\n",
        "      <th>Weather Normalized Source EUI(kBtu/ft2)</th>\n",
        "      <th>ENERGY STAR Score</th>\n",
        "      <th>Total GHG Emissions(MtCO2e)</th>\n",
        "      <th>Property Floor Area (Buildngs and Parking)(ft2)</th>\n",
        "      <th>Primary Property Type - Self Selected</th>\n",
        "      <th>Address</th>\n",
        "    </tr>\n",
        "    <tr>\n",
        "      <th>BBL</th>\n",
        "      <th></th>\n",
        "      <th></th>\n",
        "      <th></th>\n",
        "      <th></th>\n",
        "      <th></th>\n",
        "      <th></th>\n",
        "      <th></th>\n",
        "      <th></th>\n",
        "      <th></th>\n",
        "      <th></th>\n",
        "    </tr>\n",
        "  </thead>\n",
        "  <tbody>\n",
        "    <tr>\n",
        "      <th>1010050001</th>\n",
        "      <td> 1</td>\n",
        "      <td> 494.09</td>\n",
        "      <td> POLYGON ((-112.6777002811436 48.1238958776135,...</td>\n",
        "      <td>   NaN</td>\n",
        "      <td>   NaN</td>\n",
        "      <td> NaN</td>\n",
        "      <td>      NaN</td>\n",
        "      <td>     NaN</td>\n",
        "      <td>                 NaN</td>\n",
        "      <td>            801 7 AVENUE</td>\n",
        "    </tr>\n",
        "    <tr>\n",
        "      <th>1010050029</th>\n",
        "      <td> 1</td>\n",
        "      <td> 602.32</td>\n",
        "      <td> POLYGON ((-112.6770379984984 48.12397604707218...</td>\n",
        "      <td> 122.4</td>\n",
        "      <td> 245.4</td>\n",
        "      <td>  72</td>\n",
        "      <td> 19318.63</td>\n",
        "      <td> 2043271</td>\n",
        "      <td>              Office</td>\n",
        "      <td> 1301 AVENUE OF THE AMER</td>\n",
        "    </tr>\n",
        "    <tr>\n",
        "      <th>1010060013</th>\n",
        "      <td> 1</td>\n",
        "      <td> 493.21</td>\n",
        "      <td> POLYGON ((-112.6775883703739 48.12430889558267...</td>\n",
        "      <td>  63.6</td>\n",
        "      <td> 189.1</td>\n",
        "      <td>  81</td>\n",
        "      <td>  5166.69</td>\n",
        "      <td>  898743</td>\n",
        "      <td>              Office</td>\n",
        "      <td>      141 WEST 53 STREET</td>\n",
        "    </tr>\n",
        "    <tr>\n",
        "      <th>1010060063</th>\n",
        "      <td> 1</td>\n",
        "      <td> 162.95</td>\n",
        "      <td> POLYGON ((-112.6780349321616 48.12421888073546...</td>\n",
        "      <td>  78.7</td>\n",
        "      <td> 112.6</td>\n",
        "      <td> NaN</td>\n",
        "      <td>   625.06</td>\n",
        "      <td>   98606</td>\n",
        "      <td> Multifamily Housing</td>\n",
        "      <td>      162 WEST 54 STREET</td>\n",
        "    </tr>\n",
        "    <tr>\n",
        "      <th>1010067501</th>\n",
        "      <td> 1</td>\n",
        "      <td> 367.77</td>\n",
        "      <td> POLYGON ((-112.6779064372395 48.12432272477313...</td>\n",
        "      <td> 101.9</td>\n",
        "      <td> 223.5</td>\n",
        "      <td> NaN</td>\n",
        "      <td>  3097.37</td>\n",
        "      <td>  358000</td>\n",
        "      <td>               Other</td>\n",
        "      <td>      159 WEST 53 STREET</td>\n",
        "    </tr>\n",
        "  </tbody>\n",
        "</table>\n",
        "</div>"
       ],
       "metadata": {},
       "output_type": "pyout",
       "prompt_number": 131,
       "text": [
        "            boro  HEIGHT_ROO  \\\n",
        "BBL                            \n",
        "1010050001     1      494.09   \n",
        "1010050029     1      602.32   \n",
        "1010060013     1      493.21   \n",
        "1010060063     1      162.95   \n",
        "1010067501     1      367.77   \n",
        "\n",
        "                                                     geometry  \\\n",
        "BBL                                                             \n",
        "1010050001  POLYGON ((-112.6777002811436 48.1238958776135,...   \n",
        "1010050029  POLYGON ((-112.6770379984984 48.12397604707218...   \n",
        "1010060013  POLYGON ((-112.6775883703739 48.12430889558267...   \n",
        "1010060063  POLYGON ((-112.6780349321616 48.12421888073546...   \n",
        "1010067501  POLYGON ((-112.6779064372395 48.12432272477313...   \n",
        "\n",
        "            Site EUI(kBtu/ft2)  Weather Normalized Source EUI(kBtu/ft2)  \\\n",
        "BBL                                                                       \n",
        "1010050001                 NaN                                      NaN   \n",
        "1010050029               122.4                                    245.4   \n",
        "1010060013                63.6                                    189.1   \n",
        "1010060063                78.7                                    112.6   \n",
        "1010067501               101.9                                    223.5   \n",
        "\n",
        "           ENERGY STAR Score  Total GHG Emissions(MtCO2e)  \\\n",
        "BBL                                                         \n",
        "1010050001               NaN                          NaN   \n",
        "1010050029                72                     19318.63   \n",
        "1010060013                81                      5166.69   \n",
        "1010060063               NaN                       625.06   \n",
        "1010067501               NaN                      3097.37   \n",
        "\n",
        "            Property Floor Area (Buildngs and Parking)(ft2)  \\\n",
        "BBL                                                           \n",
        "1010050001                                              NaN   \n",
        "1010050029                                          2043271   \n",
        "1010060013                                           898743   \n",
        "1010060063                                            98606   \n",
        "1010067501                                           358000   \n",
        "\n",
        "           Primary Property Type - Self Selected                  Address  \n",
        "BBL                                                                        \n",
        "1010050001                                   NaN             801 7 AVENUE  \n",
        "1010050029                                Office  1301 AVENUE OF THE AMER  \n",
        "1010060013                                Office       141 WEST 53 STREET  \n",
        "1010060063                   Multifamily Housing       162 WEST 54 STREET  \n",
        "1010067501                                 Other       159 WEST 53 STREET  "
       ]
      }
     ],
     "prompt_number": 131
    },
    {
     "cell_type": "code",
     "collapsed": false,
     "input": [
      "with open('bldgsenergygeo.json','w') as f:\n",
      "    f.write(bldgsenergygeomidtown.to_json())"
     ],
     "language": "python",
     "metadata": {},
     "outputs": [],
     "prompt_number": 132
    },
    {
     "cell_type": "markdown",
     "metadata": {},
     "source": [
      "This writes a GeoJSON file for Manhattan to 'bldgsenergygeo.json' that can be used for browser-based mapping. For the d3.js interactive graph, the TopoJSON format is used because it is a smaller file format and thus allows for faster uploading and interaction. Converting between the GeoJSON file and the TopoJSON file is carried out using [this js library](https://github.com/mbostock/topojson), which requires node.js and is installed via 'sudo npm install topojson'. The conversion is carried out with the following command line call:"
     ]
    },
    {
     "cell_type": "code",
     "collapsed": false,
     "input": [
      "os.system('topojson -p -o bldgsenergytopo.json bldgsenergygeo.json')"
     ],
     "language": "python",
     "metadata": {},
     "outputs": [
      {
       "metadata": {},
       "output_type": "pyout",
       "prompt_number": 133,
       "text": [
        "0"
       ]
      }
     ],
     "prompt_number": 133
    },
    {
     "cell_type": "markdown",
     "metadata": {},
     "source": [
      "The resulting file 'bldgsenergytopo.json' is 1.2 MB, compared with the 2.9 MB GeoJSON file. "
     ]
    },
    {
     "cell_type": "code",
     "collapsed": false,
     "input": [],
     "language": "python",
     "metadata": {},
     "outputs": [],
     "prompt_number": 24
    }
   ],
   "metadata": {}
  }
 ]
}